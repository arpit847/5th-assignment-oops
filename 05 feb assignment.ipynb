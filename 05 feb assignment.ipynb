{
 "cells": [
  {
   "cell_type": "markdown",
   "id": "ee4e56be-7c4e-48b1-9e78-5400233ac53e",
   "metadata": {},
   "source": [
    " class is a blueprint for creating objects, which are instances of the class. A class defines a set of attributes and methods that the objects of the class will have.\n",
    " An object, is a specific instance of a class that has its own unique set of attributes and can perform actions based on the methods defined in the class."
   ]
  },
  {
   "cell_type": "code",
   "execution_count": 5,
   "id": "edfc130f-e7a5-450f-bc43-dbba18fc87a4",
   "metadata": {},
   "outputs": [],
   "source": [
    "class oops:\n",
    "    \n",
    "    def as_oops(self):\n",
    "        print(\"Object orient Programming\")"
   ]
  },
  {
   "cell_type": "code",
   "execution_count": 7,
   "id": "25f1490f-80a1-430a-a9ab-512c4df3adc3",
   "metadata": {},
   "outputs": [
    {
     "name": "stdout",
     "output_type": "stream",
     "text": [
      "Object orient Programming\n"
     ]
    }
   ],
   "source": [
    "assign=oops()\n",
    "assign.as_oops()"
   ]
  },
  {
   "cell_type": "markdown",
   "id": "01a3ea3a-b11d-45d9-a4ca-f4884b115b2b",
   "metadata": {},
   "source": [
    "4 pillars of OOPs are polymorphism(multiple characterstics i.e behaviour changes depending on the object pass inside the function), encapsulation(allows user to prevent any direct modification into the data),abstraction(blueprint to create a structure),inheritence(whatever method we havw defined in parent comes into child clss) "
   ]
  },
  {
   "cell_type": "markdown",
   "id": "10cc571a-e590-4bfd-bd0b-dae19b4abfe6",
   "metadata": {},
   "source": [
    "__init__() function is a constructor which takes data by creating object and that data will pass to my class."
   ]
  },
  {
   "cell_type": "code",
   "execution_count": 8,
   "id": "0d958bb9-8e5f-4294-83f8-db993621acb0",
   "metadata": {},
   "outputs": [],
   "source": [
    "class Person:\n",
    "    def __init__(self, name, email):\n",
    "        self.name = name\n",
    "        self.email = email"
   ]
  },
  {
   "cell_type": "code",
   "execution_count": 9,
   "id": "b05c9ba0-cffe-40ea-ba81-0a90879ef027",
   "metadata": {},
   "outputs": [],
   "source": [
    "person = Person('arpit', 'av@gmail.com')"
   ]
  },
  {
   "cell_type": "code",
   "execution_count": 10,
   "id": "97f429a7-cec0-48ac-aac6-f7fae63e67b3",
   "metadata": {},
   "outputs": [
    {
     "data": {
      "text/plain": [
       "'arpit'"
      ]
     },
     "execution_count": 10,
     "metadata": {},
     "output_type": "execute_result"
    }
   ],
   "source": [
    "person.name"
   ]
  },
  {
   "cell_type": "markdown",
   "id": "cba8a4b1-fa5c-4a41-8078-4fdbdeae3acf",
   "metadata": {},
   "source": [
    "Self is a reference which refers to the clss and with which we can access the attributes and methods of the class and also refers to the object."
   ]
  },
  {
   "cell_type": "markdown",
   "id": "d03129bb-96c9-4bed-bc8c-009fc727c4ca",
   "metadata": {},
   "source": [
    "inheritence(whatever method we havw defined in parent comes into child clss) "
   ]
  },
  {
   "cell_type": "code",
   "execution_count": 19,
   "id": "f564d193-ebb2-48c4-9547-1550008c9c04",
   "metadata": {},
   "outputs": [],
   "source": [
    "class Person:\n",
    "  def __init__(self, name, number):\n",
    "    self.name1 = name\n",
    "    self.number1 = number\n",
    "\n",
    "class Student(Person):\n",
    "  pass\n"
   ]
  },
  {
   "cell_type": "code",
   "execution_count": 15,
   "id": "5fdf7acb-2e07-452d-826c-7769952d09bc",
   "metadata": {},
   "outputs": [],
   "source": [
    "student=Student('arpit',123456789)"
   ]
  },
  {
   "cell_type": "code",
   "execution_count": 16,
   "id": "83f58d81-ab2c-4976-9b67-3add90624f76",
   "metadata": {},
   "outputs": [
    {
     "data": {
      "text/plain": [
       "'arpit'"
      ]
     },
     "execution_count": 16,
     "metadata": {},
     "output_type": "execute_result"
    }
   ],
   "source": [
    "student.name1\n"
   ]
  },
  {
   "cell_type": "code",
   "execution_count": 24,
   "id": "1cb2c84e-e51f-465a-b89f-89ff0eedc9c5",
   "metadata": {},
   "outputs": [],
   "source": [
    "class Father:\n",
    "  def father(self):\n",
    "    print(\"sushil\")\n",
    "\n",
    "class Mother:\n",
    "  def mother(self):\n",
    "    print(\"kavita\")\n",
    "\n",
    "class Son(Mother, Father):\n",
    "    pass"
   ]
  },
  {
   "cell_type": "code",
   "execution_count": 25,
   "id": "ae2b9ac8-d587-4738-87fb-5f7d355259a3",
   "metadata": {},
   "outputs": [],
   "source": [
    "son=Son()"
   ]
  },
  {
   "cell_type": "code",
   "execution_count": 26,
   "id": "b19672be-2a13-4518-b082-5710dfe180eb",
   "metadata": {},
   "outputs": [
    {
     "name": "stdout",
     "output_type": "stream",
     "text": [
      "sushil\n"
     ]
    }
   ],
   "source": [
    "son.father()"
   ]
  },
  {
   "cell_type": "code",
   "execution_count": 27,
   "id": "3be75f92-8c20-48f2-8470-9610c694dba4",
   "metadata": {},
   "outputs": [
    {
     "name": "stdout",
     "output_type": "stream",
     "text": [
      "kavita\n"
     ]
    }
   ],
   "source": [
    "son.mother()"
   ]
  },
  {
   "cell_type": "code",
   "execution_count": 35,
   "id": "12ff4f8c-3272-4bd3-8274-8e9e43c03810",
   "metadata": {},
   "outputs": [],
   "source": [
    "class Animal:\n",
    "    def __init__(self, name):\n",
    "        self.name = name\n",
    "\n",
    "class Dog(Animal):\n",
    "    def dog(self):\n",
    "        print(\"bnmnbvv\")\n",
    "\n",
    "class Cat(Animal):\n",
    "    def cat(self):\n",
    "        print(\"vgvggv\")"
   ]
  },
  {
   "cell_type": "code",
   "execution_count": 36,
   "id": "88579a91-0314-4681-a6c5-0c84689ca2c8",
   "metadata": {},
   "outputs": [],
   "source": [
    "dog1=Dog(Animal)"
   ]
  },
  {
   "cell_type": "code",
   "execution_count": 37,
   "id": "e2252cb6-741a-46f9-82c0-eb1faf1c3fb2",
   "metadata": {},
   "outputs": [
    {
     "name": "stdout",
     "output_type": "stream",
     "text": [
      "bnmnbvv\n"
     ]
    }
   ],
   "source": [
    "dog1.dog()"
   ]
  },
  {
   "cell_type": "code",
   "execution_count": null,
   "id": "a9082fc4-c875-43f5-82e1-f9497718049d",
   "metadata": {},
   "outputs": [],
   "source": []
  }
 ],
 "metadata": {
  "kernelspec": {
   "display_name": "Python 3 (ipykernel)",
   "language": "python",
   "name": "python3"
  },
  "language_info": {
   "codemirror_mode": {
    "name": "ipython",
    "version": 3
   },
   "file_extension": ".py",
   "mimetype": "text/x-python",
   "name": "python",
   "nbconvert_exporter": "python",
   "pygments_lexer": "ipython3",
   "version": "3.10.8"
  }
 },
 "nbformat": 4,
 "nbformat_minor": 5
}
